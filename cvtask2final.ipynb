{
 "cells": [
  {
   "cell_type": "code",
   "execution_count": 1,
   "id": "79def5f8-dd20-4ecb-8047-c24b16c8348d",
   "metadata": {
    "_cell_guid": "b1076dfc-b9ad-4769-8c92-a6c4dae69d19",
    "_uuid": "8f2839f25d086af736a60e9eeb907d3b93b6e0e5",
    "execution": {
     "iopub.execute_input": "2025-02-16T14:48:31.081315Z",
     "iopub.status.busy": "2025-02-16T14:48:31.081050Z",
     "iopub.status.idle": "2025-02-16T14:48:31.392323Z",
     "shell.execute_reply": "2025-02-16T14:48:31.391427Z",
     "shell.execute_reply.started": "2025-02-16T14:48:31.081286Z"
    },
    "trusted": true
   },
   "outputs": [],
   "source": [
    "# This Python 3 environment comes with many helpful analytics libraries installed\n",
    "# It is defined by the kaggle/python Docker image: https://github.com/kaggle/docker-python\n",
    "# For example, here's several helpful packages to load\n",
    "\n",
    "import numpy as np # linear algebra\n",
    "import pandas as pd # data processing, CSV file I/O (e.g. pd.read_csv)\n",
    "\n",
    "# Input data files are available in the read-only \"../input/\" directory\n",
    "# For example, running this (by clicking run or pressing Shift+Enter) will list all files under the input directory\n",
    "\n",
    "import os\n",
    "for dirname, _, filenames in os.walk('/kaggle/input'):\n",
    "    for filename in filenames:\n",
    "        print(os.path.join(dirname, filename))\n",
    "\n",
    "# You can write up to 20GB to the current directory (/kaggle/working/) that gets preserved as output when you create a version using \"Save & Run All\" \n",
    "# You can also write temporary files to /kaggle/temp/, but they won't be saved outside of the current session"
   ]
  },
  {
   "cell_type": "code",
   "execution_count": 2,
   "id": "90be72a7-8849-4e24-9686-26b1f75858e1",
   "metadata": {
    "execution": {
     "iopub.execute_input": "2025-02-16T14:48:31.393683Z",
     "iopub.status.busy": "2025-02-16T14:48:31.393230Z",
     "iopub.status.idle": "2025-02-16T14:48:36.806460Z",
     "shell.execute_reply": "2025-02-16T14:48:36.805556Z",
     "shell.execute_reply.started": "2025-02-16T14:48:31.393651Z"
    },
    "trusted": true
   },
   "outputs": [],
   "source": [
    "import torch\n",
    "import torch.nn as nn\n",
    "import torch.optim as optim\n",
    "import torch.nn.functional as F\n",
    "from torchvision import datasets, transforms\n",
    "from torch.utils.data import DataLoader, random_split"
   ]
  },
  {
   "cell_type": "code",
   "execution_count": 3,
   "id": "e3e46010-d9e5-4edf-aa0a-ff003059d998",
   "metadata": {
    "execution": {
     "iopub.execute_input": "2025-02-16T14:48:36.808025Z",
     "iopub.status.busy": "2025-02-16T14:48:36.807551Z",
     "iopub.status.idle": "2025-02-16T14:48:36.859393Z",
     "shell.execute_reply": "2025-02-16T14:48:36.858570Z",
     "shell.execute_reply.started": "2025-02-16T14:48:36.807990Z"
    },
    "trusted": true
   },
   "outputs": [
    {
     "name": "stdout",
     "output_type": "stream",
     "text": [
      "Using device: cuda\n"
     ]
    }
   ],
   "source": [
    "device = torch.device('cuda' if torch.cuda.is_available() else 'cpu')\n",
    "print(f'Using device: {device}')"
   ]
  },
  {
   "cell_type": "code",
   "execution_count": 4,
   "id": "c22e6828-2629-44dd-b524-99c290a2af00",
   "metadata": {
    "execution": {
     "iopub.execute_input": "2025-02-16T14:48:36.860426Z",
     "iopub.status.busy": "2025-02-16T14:48:36.860172Z",
     "iopub.status.idle": "2025-02-16T14:48:36.879891Z",
     "shell.execute_reply": "2025-02-16T14:48:36.878776Z",
     "shell.execute_reply.started": "2025-02-16T14:48:36.860394Z"
    },
    "trusted": true
   },
   "outputs": [],
   "source": [
    "transform = transforms.Compose([\n",
    "    transforms.ToTensor(),\n",
    "    transforms.Normalize((0.5,), (0.5,))\n",
    "])"
   ]
  },
  {
   "cell_type": "code",
   "execution_count": 5,
   "id": "889bb2c7-6e1c-4bf3-85fb-6e58f2f6bfd6",
   "metadata": {
    "execution": {
     "iopub.execute_input": "2025-02-16T14:48:36.880890Z",
     "iopub.status.busy": "2025-02-16T14:48:36.880676Z",
     "iopub.status.idle": "2025-02-16T14:48:41.776442Z",
     "shell.execute_reply": "2025-02-16T14:48:41.775453Z",
     "shell.execute_reply.started": "2025-02-16T14:48:36.880871Z"
    },
    "trusted": true
   },
   "outputs": [
    {
     "name": "stdout",
     "output_type": "stream",
     "text": [
      "Downloading http://fashion-mnist.s3-website.eu-central-1.amazonaws.com/train-images-idx3-ubyte.gz\n",
      "Downloading http://fashion-mnist.s3-website.eu-central-1.amazonaws.com/train-images-idx3-ubyte.gz to ./data/FashionMNIST/raw/train-images-idx3-ubyte.gz\n"
     ]
    },
    {
     "name": "stderr",
     "output_type": "stream",
     "text": [
      "100%|██████████| 26.4M/26.4M [00:01<00:00, 17.5MB/s]\n"
     ]
    },
    {
     "name": "stdout",
     "output_type": "stream",
     "text": [
      "Extracting ./data/FashionMNIST/raw/train-images-idx3-ubyte.gz to ./data/FashionMNIST/raw\n",
      "\n",
      "Downloading http://fashion-mnist.s3-website.eu-central-1.amazonaws.com/train-labels-idx1-ubyte.gz\n",
      "Downloading http://fashion-mnist.s3-website.eu-central-1.amazonaws.com/train-labels-idx1-ubyte.gz to ./data/FashionMNIST/raw/train-labels-idx1-ubyte.gz\n"
     ]
    },
    {
     "name": "stderr",
     "output_type": "stream",
     "text": [
      "100%|██████████| 29.5k/29.5k [00:00<00:00, 307kB/s]\n"
     ]
    },
    {
     "name": "stdout",
     "output_type": "stream",
     "text": [
      "Extracting ./data/FashionMNIST/raw/train-labels-idx1-ubyte.gz to ./data/FashionMNIST/raw\n",
      "\n",
      "Downloading http://fashion-mnist.s3-website.eu-central-1.amazonaws.com/t10k-images-idx3-ubyte.gz\n",
      "Downloading http://fashion-mnist.s3-website.eu-central-1.amazonaws.com/t10k-images-idx3-ubyte.gz to ./data/FashionMNIST/raw/t10k-images-idx3-ubyte.gz\n"
     ]
    },
    {
     "name": "stderr",
     "output_type": "stream",
     "text": [
      "100%|██████████| 4.42M/4.42M [00:00<00:00, 5.65MB/s]\n"
     ]
    },
    {
     "name": "stdout",
     "output_type": "stream",
     "text": [
      "Extracting ./data/FashionMNIST/raw/t10k-images-idx3-ubyte.gz to ./data/FashionMNIST/raw\n",
      "\n",
      "Downloading http://fashion-mnist.s3-website.eu-central-1.amazonaws.com/t10k-labels-idx1-ubyte.gz\n",
      "Downloading http://fashion-mnist.s3-website.eu-central-1.amazonaws.com/t10k-labels-idx1-ubyte.gz to ./data/FashionMNIST/raw/t10k-labels-idx1-ubyte.gz\n"
     ]
    },
    {
     "name": "stderr",
     "output_type": "stream",
     "text": [
      "100%|██████████| 5.15k/5.15k [00:00<00:00, 19.6MB/s]"
     ]
    },
    {
     "name": "stdout",
     "output_type": "stream",
     "text": [
      "Extracting ./data/FashionMNIST/raw/t10k-labels-idx1-ubyte.gz to ./data/FashionMNIST/raw\n",
      "\n"
     ]
    },
    {
     "name": "stderr",
     "output_type": "stream",
     "text": [
      "\n"
     ]
    }
   ],
   "source": [
    "train_dataset = datasets.FashionMNIST(root='./data', train=True, download=True, transform=transform)\n",
    "test_dataset = datasets.FashionMNIST(root='./data', train=False, download=True, transform=transform)\n",
    "\n",
    "\n",
    "val_size = int(0.1 * len(train_dataset))\n",
    "train_size = len(train_dataset) - val_size\n",
    "train_dataset, val_dataset = random_split(train_dataset, [train_size, val_size])\n",
    "\n",
    "\n",
    "train_loader = DataLoader(train_dataset, batch_size=128, shuffle=True)\n",
    "val_loader = DataLoader(val_dataset, batch_size=128, shuffle=False)\n",
    "test_loader = DataLoader(test_dataset, batch_size=128, shuffle=False)"
   ]
  },
  {
   "cell_type": "code",
   "execution_count": 6,
   "id": "7517152a-fe80-4a7f-8250-817ea30e1914",
   "metadata": {
    "execution": {
     "iopub.execute_input": "2025-02-16T14:48:41.778893Z",
     "iopub.status.busy": "2025-02-16T14:48:41.778647Z",
     "iopub.status.idle": "2025-02-16T14:48:41.791038Z",
     "shell.execute_reply": "2025-02-16T14:48:41.790154Z",
     "shell.execute_reply.started": "2025-02-16T14:48:41.778870Z"
    },
    "trusted": true
   },
   "outputs": [],
   "source": [
    "class CNNModel(nn.Module):\n",
    "    def __init__(self, kernel_sizes, strides, paddings, init_method=\"random\"):\n",
    "        super(CNNModel, self).__init__()\n",
    "        self.kernel_sizes = kernel_sizes\n",
    "        self.strides = strides\n",
    "        self.paddings = paddings\n",
    "        self.init_method = init_method\n",
    "        \n",
    "        self.conv1 = nn.Conv2d(1, 64, kernel_size=kernel_sizes[0], stride=strides[0], padding=paddings[0])\n",
    "        self.bn1 = nn.BatchNorm2d(64)\n",
    "        \n",
    "        self.conv2 = nn.Conv2d(64, 192, kernel_size=kernel_sizes[1], stride=strides[1], padding=paddings[1])\n",
    "        self.bn2 = nn.BatchNorm2d(192)\n",
    "        \n",
    "        self.conv3 = nn.Conv2d(192, 384, kernel_size=kernel_sizes[2], stride=strides[2], padding=paddings[2])\n",
    "        self.bn3 = nn.BatchNorm2d(384)\n",
    "        \n",
    "        self.conv4 = nn.Conv2d(384, 256, kernel_size=kernel_sizes[3], stride=strides[3], padding=paddings[3])\n",
    "        self.bn4 = nn.BatchNorm2d(256)\n",
    "        \n",
    "        self.conv5 = nn.Conv2d(256, 256, kernel_size=kernel_sizes[4], stride=strides[4], padding=paddings[4])\n",
    "        self.bn5 = nn.BatchNorm2d(256)\n",
    "        \n",
    "        self.pool = nn.MaxPool2d(kernel_size=2, stride=2)\n",
    "        self.fc1 = nn.Linear(256 * 7 * 7, 256)\n",
    "        self.fc2 = nn.Linear(256, 10)\n",
    "        self.dropout = nn.Dropout(0.5)\n",
    "        \n",
    "        self.initialize_weights()\n",
    "        \n",
    "    def initialize_weights(self):\n",
    "        for m in self.modules():\n",
    "            if isinstance(m, nn.Conv2d) or isinstance(m, nn.Linear):\n",
    "                if self.init_method == \"xavier\":\n",
    "                    nn.init.xavier_uniform_(m.weight)\n",
    "                elif self.init_method == \"he\":\n",
    "                    nn.init.kaiming_uniform_(m.weight, nonlinearity='relu')\n",
    "                else:\n",
    "                    nn.init.uniform_(m.weight, -0.1, 0.1)\n",
    "                \n",
    "                if m.bias is not None:\n",
    "                    nn.init.constant_(m.bias, 0)\n",
    "        \n",
    "    def forward(self, x):\n",
    "        x = F.relu(self.bn1(self.conv1(x)))\n",
    "        x = self.pool(x)\n",
    "        x = F.relu(self.bn2(self.conv2(x)))\n",
    "        x = self.pool(x)\n",
    "        x = F.relu(self.bn3(self.conv3(x)))\n",
    "        x = self.dropout(x)\n",
    "        x = F.relu(self.bn4(self.conv4(x)))\n",
    "        x = self.dropout(x)\n",
    "        x = F.relu(self.bn5(self.conv5(x)))\n",
    "        x = self.dropout(x)\n",
    "        x = x.view(-1, 256 * 7 * 7)\n",
    "        x = F.relu(self.fc1(x))\n",
    "        x = self.dropout(x)\n",
    "        x = self.fc2(x)\n",
    "        return x\n"
   ]
  },
  {
   "cell_type": "code",
   "execution_count": 7,
   "id": "ae6105e3-62c3-4bca-9c78-cfe807dd5e07",
   "metadata": {
    "execution": {
     "iopub.execute_input": "2025-02-16T14:48:41.792359Z",
     "iopub.status.busy": "2025-02-16T14:48:41.792125Z",
     "iopub.status.idle": "2025-02-16T14:48:42.082301Z",
     "shell.execute_reply": "2025-02-16T14:48:42.081347Z",
     "shell.execute_reply.started": "2025-02-16T14:48:41.792339Z"
    },
    "trusted": true
   },
   "outputs": [],
   "source": [
    "kernel_sizes = [3, 3, 3, 3, 3]\n",
    "strides = [1, 1, 1, 1, 1]\n",
    "paddings = [1, 1, 1, 1, 1]\n",
    "model = CNNModel(kernel_sizes, strides, paddings, \"xavier\").to(device)\n",
    "criterion = nn.CrossEntropyLoss()\n",
    "optimizer = optim.Adam(model.parameters(), lr=0.0015, weight_decay=1e-5)"
   ]
  },
  {
   "cell_type": "code",
   "execution_count": 8,
   "id": "af731dcc-2846-4d1c-b5f9-bb6b6d9f455c",
   "metadata": {
    "execution": {
     "iopub.execute_input": "2025-02-16T14:48:42.083536Z",
     "iopub.status.busy": "2025-02-16T14:48:42.083271Z",
     "iopub.status.idle": "2025-02-16T14:48:42.686277Z",
     "shell.execute_reply": "2025-02-16T14:48:42.685533Z",
     "shell.execute_reply.started": "2025-02-16T14:48:42.083508Z"
    },
    "trusted": true
   },
   "outputs": [],
   "source": [
    "def train(model, train_loader, criterion, optimizer, epoch):\n",
    "    model.train()\n",
    "    running_loss = 0.0\n",
    "    for batch_idx, (data, target) in enumerate(train_loader):\n",
    "        data, target = data.to(device), target.to(device)\n",
    "        optimizer.zero_grad()\n",
    "        output = model(data)\n",
    "        loss = criterion(output, target)\n",
    "        loss.backward()\n",
    "        optimizer.step()\n",
    "        running_loss += loss.item()\n",
    "        if batch_idx % 100 == 99:\n",
    "            print(f'Epoch {epoch}, Batch {batch_idx + 1}, Loss: {running_loss / 100:.6f}')\n",
    "            running_loss = 0.0\n",
    "\n",
    "\n",
    "from sklearn.metrics import precision_recall_fscore_support, accuracy_score\n",
    "\n",
    "def validate(model, val_loader, criterion):\n",
    "    model.eval()\n",
    "    val_loss = 0.0\n",
    "    correct = 0\n",
    "    all_predictions = []\n",
    "    all_targets = []\n",
    "\n",
    "    with torch.no_grad():\n",
    "        for data, target in val_loader:\n",
    "            data, target = data.to(device), target.to(device)\n",
    "            output = model(data)\n",
    "            val_loss += criterion(output, target).item()\n",
    "            pred = output.argmax(dim=1, keepdim=True)\n",
    "            correct += pred.eq(target.view_as(pred)).sum().item()\n",
    "            \n",
    "            all_predictions.extend(pred.cpu().numpy())\n",
    "            all_targets.extend(target.cpu().numpy())\n",
    "\n",
    "    val_loss /= len(val_loader.dataset)\n",
    "    val_accuracy = 100. * correct / len(val_loader.dataset)\n",
    "\n",
    "    precision, recall, f1, _ = precision_recall_fscore_support(all_targets, all_predictions, average='weighted')\n",
    "    accuracy = accuracy_score(all_targets, all_predictions)\n",
    "\n",
    "    print(f'loss: {val_loss:.6f}, Accuracy: {val_accuracy:.2f}%')\n",
    "    print(f'Precision: {precision:.2f}')\n",
    "    print(f'Recall: {recall:.2f}')\n",
    "    print(f'F1 Score: {f1:.2f}')\n",
    "\n",
    "    return val_loss, val_accuracy"
   ]
  },
  {
   "cell_type": "code",
   "execution_count": 9,
   "id": "513e46d8-2916-4e0d-a7af-3295d039961a",
   "metadata": {
    "execution": {
     "iopub.execute_input": "2025-02-16T14:48:42.687550Z",
     "iopub.status.busy": "2025-02-16T14:48:42.687084Z",
     "iopub.status.idle": "2025-02-16T14:57:14.566172Z",
     "shell.execute_reply": "2025-02-16T14:57:14.565091Z",
     "shell.execute_reply.started": "2025-02-16T14:48:42.687515Z"
    },
    "trusted": true
   },
   "outputs": [
    {
     "name": "stdout",
     "output_type": "stream",
     "text": [
      "Epoch 1, Batch 100, Loss: 1.477119\n",
      "Epoch 1, Batch 200, Loss: 0.802524\n",
      "Epoch 1, Batch 300, Loss: 0.696411\n",
      "Epoch 1, Batch 400, Loss: 0.643884\n",
      "loss: 0.003317, Accuracy: 84.42%\n",
      "Precision: 0.84\n",
      "Recall: 0.84\n",
      "F1 Score: 0.84\n",
      "Epoch 2, Batch 100, Loss: 0.552883\n",
      "Epoch 2, Batch 200, Loss: 0.551057\n",
      "Epoch 2, Batch 300, Loss: 0.530709\n",
      "Epoch 2, Batch 400, Loss: 0.515590\n",
      "loss: 0.002811, Accuracy: 86.28%\n",
      "Precision: 0.87\n",
      "Recall: 0.86\n",
      "F1 Score: 0.86\n",
      "Epoch 3, Batch 100, Loss: 0.487248\n",
      "Epoch 3, Batch 200, Loss: 0.480644\n",
      "Epoch 3, Batch 300, Loss: 0.482166\n",
      "Epoch 3, Batch 400, Loss: 0.444388\n",
      "loss: 0.002439, Accuracy: 88.27%\n",
      "Precision: 0.89\n",
      "Recall: 0.88\n",
      "F1 Score: 0.88\n",
      "Epoch 4, Batch 100, Loss: 0.434189\n",
      "Epoch 4, Batch 200, Loss: 0.447252\n",
      "Epoch 4, Batch 300, Loss: 0.419754\n",
      "Epoch 4, Batch 400, Loss: 0.423353\n",
      "loss: 0.002175, Accuracy: 89.97%\n",
      "Precision: 0.90\n",
      "Recall: 0.90\n",
      "F1 Score: 0.90\n",
      "Epoch 5, Batch 100, Loss: 0.385184\n",
      "Epoch 5, Batch 200, Loss: 0.410583\n",
      "Epoch 5, Batch 300, Loss: 0.401157\n",
      "Epoch 5, Batch 400, Loss: 0.383668\n",
      "loss: 0.002105, Accuracy: 89.87%\n",
      "Precision: 0.90\n",
      "Recall: 0.90\n",
      "F1 Score: 0.90\n",
      "Epoch 6, Batch 100, Loss: 0.389938\n",
      "Epoch 6, Batch 200, Loss: 0.371930\n",
      "Epoch 6, Batch 300, Loss: 0.373985\n",
      "Epoch 6, Batch 400, Loss: 0.370945\n",
      "loss: 0.002043, Accuracy: 90.58%\n",
      "Precision: 0.91\n",
      "Recall: 0.91\n",
      "F1 Score: 0.91\n",
      "Epoch 7, Batch 100, Loss: 0.361365\n",
      "Epoch 7, Batch 200, Loss: 0.357210\n",
      "Epoch 7, Batch 300, Loss: 0.348071\n",
      "Epoch 7, Batch 400, Loss: 0.354443\n",
      "loss: 0.002015, Accuracy: 90.72%\n",
      "Precision: 0.91\n",
      "Recall: 0.91\n",
      "F1 Score: 0.91\n",
      "Epoch 8, Batch 100, Loss: 0.317943\n",
      "Epoch 8, Batch 200, Loss: 0.340005\n",
      "Epoch 8, Batch 300, Loss: 0.326664\n",
      "Epoch 8, Batch 400, Loss: 0.335294\n",
      "loss: 0.001777, Accuracy: 91.15%\n",
      "Precision: 0.91\n",
      "Recall: 0.91\n",
      "F1 Score: 0.91\n",
      "Epoch 9, Batch 100, Loss: 0.299388\n",
      "Epoch 9, Batch 200, Loss: 0.302474\n",
      "Epoch 9, Batch 300, Loss: 0.301971\n",
      "Epoch 9, Batch 400, Loss: 0.319399\n",
      "loss: 0.001866, Accuracy: 91.83%\n",
      "Precision: 0.92\n",
      "Recall: 0.92\n",
      "F1 Score: 0.92\n",
      "Epoch 10, Batch 100, Loss: 0.282470\n",
      "Epoch 10, Batch 200, Loss: 0.289161\n",
      "Epoch 10, Batch 300, Loss: 0.306370\n",
      "Epoch 10, Batch 400, Loss: 0.301784\n",
      "loss: 0.001845, Accuracy: 91.95%\n",
      "Precision: 0.92\n",
      "Recall: 0.92\n",
      "F1 Score: 0.92\n",
      "Epoch 11, Batch 100, Loss: 0.273570\n",
      "Epoch 11, Batch 200, Loss: 0.274692\n",
      "Epoch 11, Batch 300, Loss: 0.273408\n",
      "Epoch 11, Batch 400, Loss: 0.271550\n",
      "loss: 0.002079, Accuracy: 91.23%\n",
      "Precision: 0.92\n",
      "Recall: 0.91\n",
      "F1 Score: 0.91\n",
      "Epoch 12, Batch 100, Loss: 0.260960\n",
      "Epoch 12, Batch 200, Loss: 0.250942\n",
      "Epoch 12, Batch 300, Loss: 0.262377\n",
      "Epoch 12, Batch 400, Loss: 0.263921\n",
      "loss: 0.001689, Accuracy: 92.45%\n",
      "Precision: 0.92\n",
      "Recall: 0.92\n",
      "F1 Score: 0.92\n",
      "Epoch 13, Batch 100, Loss: 0.243333\n",
      "Epoch 13, Batch 200, Loss: 0.246708\n",
      "Epoch 13, Batch 300, Loss: 0.251545\n",
      "Epoch 13, Batch 400, Loss: 0.235985\n",
      "loss: 0.001850, Accuracy: 92.22%\n",
      "Precision: 0.92\n",
      "Recall: 0.92\n",
      "F1 Score: 0.92\n",
      "Epoch 14, Batch 100, Loss: 0.218645\n",
      "Epoch 14, Batch 200, Loss: 0.240000\n",
      "Epoch 14, Batch 300, Loss: 0.229603\n",
      "Epoch 14, Batch 400, Loss: 0.257340\n",
      "loss: 0.001869, Accuracy: 91.95%\n",
      "Precision: 0.92\n",
      "Recall: 0.92\n",
      "F1 Score: 0.92\n",
      "Epoch 15, Batch 100, Loss: 0.232640\n",
      "Epoch 15, Batch 200, Loss: 0.235531\n",
      "Epoch 15, Batch 300, Loss: 0.232193\n",
      "Epoch 15, Batch 400, Loss: 0.212595\n",
      "loss: 0.001805, Accuracy: 92.33%\n",
      "Precision: 0.92\n",
      "Recall: 0.92\n",
      "F1 Score: 0.92\n",
      "Epoch 16, Batch 100, Loss: 0.205471\n",
      "Epoch 16, Batch 200, Loss: 0.211667\n",
      "Epoch 16, Batch 300, Loss: 0.216985\n",
      "Epoch 16, Batch 400, Loss: 0.213107\n",
      "loss: 0.001815, Accuracy: 92.60%\n",
      "Precision: 0.93\n",
      "Recall: 0.93\n",
      "F1 Score: 0.93\n",
      "Epoch 17, Batch 100, Loss: 0.204364\n",
      "Epoch 17, Batch 200, Loss: 0.201714\n",
      "Epoch 17, Batch 300, Loss: 0.206009\n",
      "Epoch 17, Batch 400, Loss: 0.213524\n",
      "loss: 0.001850, Accuracy: 92.20%\n",
      "Precision: 0.92\n",
      "Recall: 0.92\n",
      "F1 Score: 0.92\n",
      "Epoch 18, Batch 100, Loss: 0.191195\n",
      "Epoch 18, Batch 200, Loss: 0.195745\n",
      "Epoch 18, Batch 300, Loss: 0.190870\n",
      "Epoch 18, Batch 400, Loss: 0.191861\n",
      "loss: 0.001780, Accuracy: 92.37%\n",
      "Precision: 0.92\n",
      "Recall: 0.92\n",
      "F1 Score: 0.92\n",
      "Epoch 19, Batch 100, Loss: 0.181282\n",
      "Epoch 19, Batch 200, Loss: 0.177810\n",
      "Epoch 19, Batch 300, Loss: 0.186432\n",
      "Epoch 19, Batch 400, Loss: 0.189064\n",
      "loss: 0.001765, Accuracy: 92.55%\n",
      "Precision: 0.93\n",
      "Recall: 0.93\n",
      "F1 Score: 0.93\n",
      "Epoch 20, Batch 100, Loss: 0.171435\n",
      "Epoch 20, Batch 200, Loss: 0.180801\n",
      "Epoch 20, Batch 300, Loss: 0.171894\n",
      "Epoch 20, Batch 400, Loss: 0.180739\n",
      "loss: 0.001921, Accuracy: 92.25%\n",
      "Precision: 0.92\n",
      "Recall: 0.92\n",
      "F1 Score: 0.92\n",
      "Epoch 21, Batch 100, Loss: 0.176269\n",
      "Epoch 21, Batch 200, Loss: 0.162519\n",
      "Epoch 21, Batch 300, Loss: 0.164700\n",
      "Epoch 21, Batch 400, Loss: 0.171064\n",
      "loss: 0.001922, Accuracy: 92.72%\n",
      "Precision: 0.93\n",
      "Recall: 0.93\n",
      "F1 Score: 0.93\n",
      "Epoch 22, Batch 100, Loss: 0.148076\n",
      "Epoch 22, Batch 200, Loss: 0.155423\n",
      "Epoch 22, Batch 300, Loss: 0.158278\n",
      "Epoch 22, Batch 400, Loss: 0.160237\n",
      "loss: 0.001773, Accuracy: 92.73%\n",
      "Precision: 0.93\n",
      "Recall: 0.93\n",
      "F1 Score: 0.93\n",
      "Epoch 23, Batch 100, Loss: 0.141571\n",
      "Epoch 23, Batch 200, Loss: 0.149290\n",
      "Epoch 23, Batch 300, Loss: 0.143608\n",
      "Epoch 23, Batch 400, Loss: 0.152810\n",
      "loss: 0.001920, Accuracy: 93.03%\n",
      "Precision: 0.93\n",
      "Recall: 0.93\n",
      "F1 Score: 0.93\n",
      "Epoch 24, Batch 100, Loss: 0.137618\n",
      "Epoch 24, Batch 200, Loss: 0.146750\n",
      "Epoch 24, Batch 300, Loss: 0.144509\n",
      "Epoch 24, Batch 400, Loss: 0.147116\n",
      "loss: 0.001906, Accuracy: 92.53%\n",
      "Precision: 0.93\n",
      "Recall: 0.93\n",
      "F1 Score: 0.92\n",
      "Epoch 25, Batch 100, Loss: 0.135778\n",
      "Epoch 25, Batch 200, Loss: 0.130015\n",
      "Epoch 25, Batch 300, Loss: 0.133286\n",
      "Epoch 25, Batch 400, Loss: 0.146582\n",
      "loss: 0.001789, Accuracy: 92.82%\n",
      "Precision: 0.93\n",
      "Recall: 0.93\n",
      "F1 Score: 0.93\n",
      "Epoch 26, Batch 100, Loss: 0.124027\n",
      "Epoch 26, Batch 200, Loss: 0.134350\n",
      "Epoch 26, Batch 300, Loss: 0.139374\n",
      "Epoch 26, Batch 400, Loss: 0.142239\n",
      "loss: 0.001759, Accuracy: 93.13%\n",
      "Precision: 0.93\n",
      "Recall: 0.93\n",
      "F1 Score: 0.93\n",
      "Epoch 27, Batch 100, Loss: 0.115243\n",
      "Epoch 27, Batch 200, Loss: 0.128558\n",
      "Epoch 27, Batch 300, Loss: 0.124740\n",
      "Epoch 27, Batch 400, Loss: 0.136831\n",
      "loss: 0.001960, Accuracy: 92.77%\n",
      "Precision: 0.93\n",
      "Recall: 0.93\n",
      "F1 Score: 0.93\n",
      "Epoch 28, Batch 100, Loss: 0.120885\n",
      "Epoch 28, Batch 200, Loss: 0.120952\n",
      "Epoch 28, Batch 300, Loss: 0.126941\n",
      "Epoch 28, Batch 400, Loss: 0.126030\n",
      "loss: 0.001905, Accuracy: 93.13%\n",
      "Precision: 0.93\n",
      "Recall: 0.93\n",
      "F1 Score: 0.93\n",
      "Epoch 29, Batch 100, Loss: 0.107377\n",
      "Epoch 29, Batch 200, Loss: 0.121703\n",
      "Epoch 29, Batch 300, Loss: 0.118877\n",
      "Epoch 29, Batch 400, Loss: 0.121466\n",
      "loss: 0.001998, Accuracy: 93.07%\n",
      "Precision: 0.93\n",
      "Recall: 0.93\n",
      "F1 Score: 0.93\n",
      "Epoch 30, Batch 100, Loss: 0.097792\n",
      "Epoch 30, Batch 200, Loss: 0.107346\n",
      "Epoch 30, Batch 300, Loss: 0.114970\n",
      "Epoch 30, Batch 400, Loss: 0.116922\n",
      "loss: 0.002176, Accuracy: 92.95%\n",
      "Precision: 0.93\n",
      "Recall: 0.93\n",
      "F1 Score: 0.93\n",
      "Training complete!\n"
     ]
    }
   ],
   "source": [
    "num_epochs = 30\n",
    "best_val_loss = float('inf')\n",
    "for epoch in range(1, num_epochs + 1):\n",
    "    train(model, train_loader, criterion, optimizer, epoch)\n",
    "    val_loss, val_accuracy = validate(model, val_loader, criterion)\n",
    "    if val_loss < best_val_loss:\n",
    "        best_val_loss = val_loss\n",
    "        torch.save(model.state_dict(), 'best_model.pth')\n",
    "\n",
    "print('Training complete!')"
   ]
  },
  {
   "cell_type": "code",
   "execution_count": 10,
   "id": "dc7dc3d0-0ece-4aaa-943d-790f30c772b4",
   "metadata": {
    "execution": {
     "iopub.execute_input": "2025-02-16T14:57:14.567413Z",
     "iopub.status.busy": "2025-02-16T14:57:14.567104Z",
     "iopub.status.idle": "2025-02-16T14:57:16.771572Z",
     "shell.execute_reply": "2025-02-16T14:57:16.770561Z",
     "shell.execute_reply.started": "2025-02-16T14:57:14.567378Z"
    },
    "trusted": true
   },
   "outputs": [
    {
     "name": "stderr",
     "output_type": "stream",
     "text": [
      "<ipython-input-10-c1de9ef94d1f>:1: FutureWarning: You are using `torch.load` with `weights_only=False` (the current default value), which uses the default pickle module implicitly. It is possible to construct malicious pickle data which will execute arbitrary code during unpickling (See https://github.com/pytorch/pytorch/blob/main/SECURITY.md#untrusted-models for more details). In a future release, the default value for `weights_only` will be flipped to `True`. This limits the functions that could be executed during unpickling. Arbitrary objects will no longer be allowed to be loaded via this mode unless they are explicitly allowlisted by the user via `torch.serialization.add_safe_globals`. We recommend you start setting `weights_only=True` for any use case where you don't have full control of the loaded file. Please open an issue on GitHub for any issues related to this experimental feature.\n",
      "  model.load_state_dict(torch.load('best_model.pth'))\n"
     ]
    },
    {
     "name": "stdout",
     "output_type": "stream",
     "text": [
      "loss: 0.001908, Accuracy: 92.60%\n",
      "Precision: 0.93\n",
      "Recall: 0.93\n",
      "F1 Score: 0.93\n",
      "Test loss: 0.001908, Accuracy: 92.60%\n"
     ]
    }
   ],
   "source": [
    "model.load_state_dict(torch.load('best_model.pth'))\n",
    "test_loss, test_accuracy = validate(model, test_loader, criterion)\n",
    "print(f'Test loss: {test_loss:.6f}, Accuracy: {test_accuracy:.2f}%')"
   ]
  },
  {
   "cell_type": "code",
   "execution_count": null,
   "id": "6614fb31-595d-4726-837e-cd9e9b31143f",
   "metadata": {
    "trusted": true
   },
   "outputs": [],
   "source": []
  }
 ],
 "metadata": {
  "kaggle": {
   "accelerator": "gpu",
   "dataSources": [],
   "dockerImageVersionId": "30887",
   "isGpuEnabled": true,
   "isInternetEnabled": true,
   "language": "python",
   "sourceType": "notebook"
  },
  "kernelspec": {
   "display_name": "Python 3",
   "language": "python",
   "name": "python3"
  },
  "language_info": {
   "codemirror_mode": {
    "name": "ipython",
    "version": "3"
   },
   "file_extension": ".py",
   "mimetype": "text/x-python",
   "name": "python",
   "nbconvert_exporter": "python",
   "pygments_lexer": "ipython3",
   "version": "3.10.12"
  }
 },
 "nbformat": 4,
 "nbformat_minor": 5
}
